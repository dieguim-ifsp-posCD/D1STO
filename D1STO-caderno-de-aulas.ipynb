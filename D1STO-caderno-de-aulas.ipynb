{
 "cells": [
  {
   "cell_type": "markdown",
   "id": "86362811",
   "metadata": {},
   "source": [
    "# D1STO - Storytelling com Dados\n",
    "\n",
    "- Professor [Andreiwid Sheffer Corrêa](http://lattes.cnpq.br/4577090363752062)\n",
    "- Google Meet: [Link das aulas](https://meet.google.com/jqg-dyux-znk)\n",
    "- Horário de atendimento: [Quartas, 18h às 19h](https://meet.google.com/tof-ebba-jof)\n",
    "- Recursos:\n",
    "  - [Blog do livro Storytelling com Dados](https://www.storytellingwithdata.com/)\n",
    "  - [Observatório Covid - exemplo de dashboard](https://datastudio.google.com/reporting/a9aefbc9-54a3-4b39-9ff2-9af99922aa1d/page/nIu4B)\n",
    "  - [Catálogo de recursos para visualização de dados](https://datavizcatalogue.com/search.html)"
   ]
  },
  {
   "cell_type": "markdown",
   "id": "15786966",
   "metadata": {},
   "source": [
    "## 20/04/2021 - Aula 00 e 01: Apresentação da Disciplina e Introdução\n",
    "\n",
    "### Materiais de aula\n",
    "\n",
    "- [Vídeo: Gravação da aula](https://drive.google.com/file/d/1RnuaTO4GTvzH9AwysunEzytgn24FZNpL/view)\n",
    "- [Slides: Apresentação da disciplina](slides/20210422-D1STO-aula00-apresentacao.pdf)\n",
    "- [Slides: Introdução](slides/20210422-D1STO-aula01-introducao.pdf)\n",
    "  - [Vídeo: Correlação de CO2 e temperatura - Uma Verdade Incoveniente](recursos/20210422-aula01/uma_verdade_incoveniente.mp4)\n",
    "  - [Vídeo: Apresentação da Natalie - Amor Sem Escalas](recursos/20210422-aula01/amor_sem_escalas.mp4)\n",
    "  - [Planilha: CHAPTER 0 VISUALS](recursos/20210422-aula01/CHAPTER_0_VISUALS.xlsx)"
   ]
  },
  {
   "cell_type": "markdown",
   "id": "7bf406f5",
   "metadata": {},
   "source": [
    "### Apresentação\n",
    "\n",
    "- *Storytelling* é um termo relativamente novo na ciência de dados\n",
    "  - Termo usado no *marketing* e educação infantil\n",
    "- Vamos aprender como fazer apresentações\n",
    "  - Conceitos de oratória\n",
    "- Ética na divulgação de dados, LGPD\n",
    "- Comunicar dados é diferente de divulgar\n",
    "  - Comunicação exige processo e interação\n",
    "  - Deve ser eficiente\n",
    "  - Vínculo entre o emissor e receptores da mensagem\n",
    "- \"O simples encanta\". O simples é efetivo\n",
    "  - Princípios trabalhados pela bibliografia básica do curso (*storytelling com dados*, Cole Knaflic)\n",
    "  \n",
    "#### Ferramentas\n",
    "\n",
    "- Créditos de US\\\\$ 200 para cada aluno no AWS Educate\n",
    "- Atividades práticas usando o Google Data Studio"
   ]
  },
  {
   "cell_type": "markdown",
   "id": "15dc7638",
   "metadata": {},
   "source": [
    "### Introdução\n",
    "\n",
    "- **tecnarte** = técnica + arte\n",
    "- Narrativa da *Starbucks* é a personalização: cada café é entregue com o nome da pessoa escrito, é um café individualizado"
   ]
  },
  {
   "cell_type": "markdown",
   "id": "4e7b750a-308f-4140-809e-64d5fb76f7bf",
   "metadata": {},
   "source": [
    "## 29/04/2021 - Aula 02: A importância do contexto\n",
    "\n",
    "### Materiais de aula\n",
    "\n",
    "- [Video: Gravação da aula](https://drive.google.com/file/d/1o9Lh747SwcqKV0pQMgDxoF12-ezq8ePa/view)\n",
    "- [Slides: A importância do contexto](slides/20210429-D1STO-aula02-a_importancia_do_contexto.pdf)\n",
    "- [Recurso: the BIG IDEA worksheet (inglês)](recursos/20210429-aula02/big_idea_worksheet-ingles.pdf) / [Roteiro GRANDE IDEIA (português)](recursos/20210429-aula02/big_idea_worksheet-portugues.pdf)"
   ]
  },
  {
   "cell_type": "markdown",
   "id": "6b85e6aa-8ee3-47b4-97f4-af877884d125",
   "metadata": {},
   "source": [
    "### Curiosidade\n",
    "\n",
    "- Mapa interativo com rádios pelo mundo: http://radio.garden/live/clifden/connemarafm/\n",
    "  - Possível projeto?"
   ]
  },
  {
   "cell_type": "markdown",
   "id": "92843f24-83a5-4c4b-a450-e9cf5dbe0d8a",
   "metadata": {},
   "source": [
    "### Contanto histórias com dados ([slides introdução](slides/20210422-D1STO-aula01-introducao.pdf))\n",
    "\n",
    "#### Gráfcos ineficientes\n",
    "\n",
    "Seguindo a ordem dos slides:\n",
    "\n",
    "- Gráfico de pizza\n",
    "  - Dificuldade de relacionar as fatias da pizza com a legenda\n",
    "  - Movimento de \"ida-e-volta\" entre gráfico e legenda dificulta visualização\n",
    "  - Piores são os gráficos de pizza 3D\n",
    "  - Não há destaque para uma informação principal\n",
    "- Gráfico de linha\n",
    "  - Efeito macarrônico. Cruzamento das linhas confunde entendimento\n",
    "- Gráfico de barras\n",
    "  - Legendas desproporcionais\n",
    "  - Muitos ruídos\n",
    "- Gráfico de barras horizontais\n",
    "  - Muitos ruídos\n",
    "  - Combinação de cores não é agradável\n",
    "- Gráfico de pilha\n",
    "  - Combinação de cores ruim\n",
    "  - Grande quantidade de camadas\n",
    "  - Muita informação, aumento da saturação, prejudicando a atenção\n",
    "- Gráfico de pontos (Weighted Performance index)\n",
    "  - Parece \"árvore de natal\"\n",
    "  - Difícil visualização\n",
    "  \n",
    "#### \"Antes e depois\"\n",
    "\n",
    "- Primeiro exemplo (Ticket Trend)\n",
    "  - Mensagem que se quer passar: A partir de um determinado momento, o atendimento dos tickets passou a ser aquém do esperado\n",
    "  - Segundo gráfico:\n",
    "    - Destaca momento da mudança (maio) e motivo (saída de 2 funcionários)\n",
    "    - Destaca uma ação a ser tomada: contratação de novos funcionários\n",
    "    - Recurso de texto: simples e bastante eficiente\n",
    "- Segundo exemplo (Survey Results)\n",
    "  - Primeiro gráfico:\n",
    "    - Para se entender, é necessário alternar atenção entre gráfico/legenda e entre os gráficos antes/depois\n",
    "  - História que se quer contar: melhora na percepção sobre ciência após o curso\n",
    "  - Segundo gráfico\n",
    "    - Escolha das cores, que além de \"agradáveis\", passam uma mensagem com sua variação\n",
    "- Terceiro exemplo (Average Retail Product...)\n",
    "  - Primeiro gráfico:\n",
    "    - Comparação entre os produtos é difícil de se perceber\n",
    "    - Esta é uma mensagem importante\n",
    "  - Segundo gráfico:\n",
    "    - Uma linha por produto, facilitando a comparação entre produtos\n",
    "    - Faixa de \"recommended range\" é um recurso interessante. Mostra o quão distante do recomendado está cada produto\n",
    "  \n",
    "#### Roteiro para contar histórias com dados\n",
    "\n",
    "1. Entenda o contexto\n",
    "   - Conhecer o público\n",
    "1. Escolha o visual adequado\n",
    "   - Quais gráficos melhor representam a mensagem a ser passada\n",
    "   - Composição das cores\n",
    "   - Legendas\n",
    "   - Precisamos colocar todas as categorias? Posso segmentar? --> Focar a atenção\n",
    "1. Elimine a saturação\n",
    "   - Psicologia para entender o efeito da saturação no foco e entendimento\n",
    "   - Poluição visual sobrecarrega a carga cognitiva\n",
    "1. Foque a atenção\n",
    "   - Elementos visuais que vão ajudar na atenção\n",
    "1. Conte uma história"
   ]
  },
  {
   "cell_type": "markdown",
   "id": "5180f7b2-160b-484e-87a7-971600713b89",
   "metadata": {},
   "source": [
    "### A importância do contexto\n",
    "\n",
    "- Rapport (quebrar o gelo): técnica para criar empatia com o público, estabelecer confiança"
   ]
  },
  {
   "cell_type": "markdown",
   "id": "ed529f40-bf89-4efa-9db2-18f46955fa28",
   "metadata": {},
   "source": [
    "## 06/05/2021 - Aula 03: Atividade prática: A importância do contexto\n",
    "\n",
    "### Materiais de aula\n",
    "\n",
    "- [Video: Gravação da aula](https://drive.google.com/file/d/15oo4lCo4YniUz6hPudkwdHJSXwSMztj9/view)\n",
    "- [Roteiro de atividade prática: A importância do contexto](recursos/20210506-aula03/roteiro_de_atividade_prática-a_importancia_do_contexto.pdf) | [Google docs](https://docs.google.com/document/d/1M2Lpf8erSXKSvKFmxEhGHi8ozS3VUDfnMB08cJq0ipk/edit)\n",
    "- [Miro Board](https://miro.com/app/board/o9J_lGc-Y-8=/)"
   ]
  },
  {
   "cell_type": "markdown",
   "id": "996d1bf5-aa79-46f1-aa34-420b3b3fa429",
   "metadata": {},
   "source": [
    "Aula dedicada ao trabalho prático de preenchimento do _Roteiro Grande Ideia_ e _Storyboard_ utilizando o _Miro_"
   ]
  },
  {
   "cell_type": "markdown",
   "id": "78c6fc7c-d07f-40e0-ac3b-dcbfca5afe4b",
   "metadata": {},
   "source": [
    "## 13/05/2021 - Aula 04: Visual eficaz\n",
    "\n",
    "### Materiais de aula\n",
    "\n",
    "- [Video: Gravação da aula](https://drive.google.com/file/d/1hsY6IziiyEywA4GTpCx3DmbsTUG5mdhy/view)\n",
    "- [Video: Complemento da aula - Explicando melhor a atividade prática Roteiro da Grande Ideia e Storyboard](https://www.loom.com/share/24c84e2dba8f43719f4935d10a302ecc)\n",
    "- [Slides: Visual eficaz](slides/20210513-D1STO-aula04-visual_eficaz.pdf)\n",
    "  - [Planilha: CHAPTER 2 VISUALS](recursos/20210513-aula04/CHAPTER_2_VISUALS.xlsx)\n",
    "- [Planilha: 2.1 EXERCISE](recursos/20210513-aula04/2.1_EXERCISE.xlsx)\n",
    "- [Planilha: 2.1 SOLUTION](recursos/20210513-aula04/2.1_SOLUTION.xlsx)"
   ]
  },
  {
   "cell_type": "markdown",
   "id": "87f4fe89-dc9c-4452-a450-a0117c1ad2fd",
   "metadata": {},
   "source": [
    "### 12 gráficos mais usados\n",
    "\n",
    "#### Texto simples\n",
    "\n",
    "- Um gráfico exige carga cognitiva para ser interpretado\n",
    "  - Se temos poucos dados a apresentar, pode ser mais eficiente um texto simples (ou label)\n",
    "- Dismistifica a ideia de que sempre precisa-se ter um gráfico\n",
    "\n",
    "#### Tabelas\n",
    "\n",
    "- Recomendado é ter design mais leve (minimalista) possível\n",
    "  - Foco nos dados e não na estrutura da tabela\n",
    "- Se usar tabela em apresentação, dar um tempo para o público ler\n",
    "  - É provável que o público não preste atenção no que esteja sendo apresentado no momento que a tabela é vista (estarão lendo a tabela)\n",
    "  \n",
    "#### Mapa de calor\n",
    "\n",
    "- Tendemos a bater o olho primeiramente nos dados em maior destaque\n",
    "- Cuidado com o \"varal\" de cores (saturação em excesso)\n",
    "\n",
    "#### Gráfico de dispersão\n",
    "\n",
    "- Procurar estratégias para tornar sua compreensão menos complexa para público em geral\n",
    "\n",
    "#### Linhas\n",
    "\n",
    "- Cuidado com o _efeito macarrônico_\n",
    "- Destacar a série mais importante e deixar as séries secundárias mais \"apagadas\" (diferença de saturação de cores)\n",
    "\n",
    "#### Mapa de inclinação\n",
    "\n",
    "- Fácil compreensão\n",
    "- Também deve-se tomar cuidado com o _efeito macarrônico_, quando se tem muitas linhas\n",
    "- Pode também lançar mão da diferença de saturação de cores\n",
    "\n",
    "#### Barras (vertical e vertical empilhadas)\n",
    "\n",
    "- Não usar **base zero** distorce a percepção visual da diferença entre as barras\n",
    "  - Essa percepção é justamente o que pretende-se com o gráfico de barras\n",
    "  \n",
    "#### Cascata\n",
    "\n",
    "- Interpretação mais difícil.\n",
    "  - Se usado em uma apresentação, parar para explicá-lo ao público\n",
    "  \n",
    "#### Barras horizontais empilhadas\n",
    "\n",
    "- Cuidado: muitas cores fica poluído\n",
    "  - Agrupar percepções em cores iguais (positivo x negativo; contra x a favor etc)"
   ]
  }
 ],
 "metadata": {
  "kernelspec": {
   "display_name": "Python 3",
   "language": "python",
   "name": "python3"
  },
  "language_info": {
   "codemirror_mode": {
    "name": "ipython",
    "version": 3
   },
   "file_extension": ".py",
   "mimetype": "text/x-python",
   "name": "python",
   "nbconvert_exporter": "python",
   "pygments_lexer": "ipython3",
   "version": "3.8.8"
  }
 },
 "nbformat": 4,
 "nbformat_minor": 5
}
