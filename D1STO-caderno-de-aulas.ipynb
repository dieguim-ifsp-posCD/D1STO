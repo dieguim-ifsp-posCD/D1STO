{
 "cells": [
  {
   "cell_type": "markdown",
   "id": "3d668058",
   "metadata": {},
   "source": [
    "# D1STO - Storytelling com Dados\n",
    "\n",
    "- Professor [Andreiwid Sheffer Corrêa](http://lattes.cnpq.br/4577090363752062)\n",
    "- Google Meet: [Link das aulas](https://meet.google.com/jqg-dyux-znk)\n",
    "- Horário de atendimento: [Quartas, 18h às 19h](https://meet.google.com/tof-ebba-jof)\n",
    "- Recursos:\n",
    "  - [Blog do livro Storytelling com Dados](https://www.storytellingwithdata.com/)\n",
    "  - [Observatório Covid - exemplo de dashboard](https://datastudio.google.com/reporting/a9aefbc9-54a3-4b39-9ff2-9af99922aa1d/page/nIu4B)\n",
    "  - [Catálogo de recursos para visualização de dados](https://datavizcatalogue.com/search.html)"
   ]
  },
  {
   "cell_type": "markdown",
   "id": "15e95661",
   "metadata": {},
   "source": [
    "## 20/04/2021 - Aula 00 e 01: Apresentação da Disciplina e Introdução\n",
    "\n",
    "### Materiais de aula\n",
    "\n",
    "- [Vídeo: Gravação da aula](https://drive.google.com/file/d/1RnuaTO4GTvzH9AwysunEzytgn24FZNpL/view)\n",
    "- [Slides: Apresentação da disciplina](slides/20210422-aula00-apresentacao.pdf)\n",
    "- [Slides: Introdução](slides/20210422-aula01-introducao.pdf)\n",
    "  - [Vídeo: Correlação de CO2 e temperatura - Uma Verdade Incoveniente](recursos/20210422-aula01/uma_verdade_incoveniente.mp4)\n",
    "  - [Vídeo: Apresentação da Natalie - Amor Sem Escalas](recursos/20210422-aula01/amor_sem_escalas.mp4)\n",
    "  - [Planilha: CHAPTER 0 VISUALS](recursos/20210422-aula01/CHAPTER_0_VISUALS.xlsx)"
   ]
  },
  {
   "cell_type": "markdown",
   "id": "56af274d",
   "metadata": {},
   "source": [
    "### Apresentação\n",
    "\n",
    "- *Storytelling* é um termo relativamente novo na ciência de dados\n",
    "  - Termo usado no *marketing* e educação infantil\n",
    "- Vamos aprender como fazer apresentações\n",
    "  - Conceitos de oratória\n",
    "- Ética na divulgação de dados, LGPD\n",
    "- Comunicar dados é diferente de divulgar\n",
    "  - Comunicação exige processo e interação\n",
    "  - Deve ser eficiente\n",
    "  - Vínculo entre o emissor e receptores da mensagem\n",
    "- \"O simples encanta\". O simples é efetivo\n",
    "  - Princípios trabalhados pela bibliografia básica do curso (*storytelling com dados*, Cole Knaflic)\n",
    "  \n",
    "#### Ferramentas\n",
    "\n",
    "- Créditos de US\\\\$ 200 para cada aluno no AWS Educate\n",
    "- Atividades práticas usando o Google Data Studio"
   ]
  },
  {
   "cell_type": "markdown",
   "id": "e7a8fd70",
   "metadata": {},
   "source": [
    "### Introdução\n",
    "\n",
    "- **tecnarte** = técnica + arte\n",
    "- Narrativa da *Starbucks* é a personalização: cada café é entregue com o nome da pessoa escrito, é um café individualizado"
   ]
  }
 ],
 "metadata": {
  "kernelspec": {
   "display_name": "Python 3",
   "language": "python",
   "name": "python3"
  },
  "language_info": {
   "codemirror_mode": {
    "name": "ipython",
    "version": 3
   },
   "file_extension": ".py",
   "mimetype": "text/x-python",
   "name": "python",
   "nbconvert_exporter": "python",
   "pygments_lexer": "ipython3",
   "version": "3.8.8"
  }
 },
 "nbformat": 4,
 "nbformat_minor": 5
}
